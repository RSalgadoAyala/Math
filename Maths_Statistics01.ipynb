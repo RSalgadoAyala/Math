{
  "nbformat": 4,
  "nbformat_minor": 0,
  "metadata": {
    "colab": {
      "provenance": [],
      "authorship_tag": "ABX9TyNzdG2fP0nJYF8yLzuGjBQQ",
      "include_colab_link": true
    },
    "kernelspec": {
      "name": "python3",
      "display_name": "Python 3"
    },
    "language_info": {
      "name": "python"
    }
  },
  "cells": [
    {
      "cell_type": "markdown",
      "metadata": {
        "id": "view-in-github",
        "colab_type": "text"
      },
      "source": [
        "<a href=\"https://colab.research.google.com/github/RSalgadoAyala/Math/blob/master/Maths_Statistics01.ipynb\" target=\"_parent\"><img src=\"https://colab.research.google.com/assets/colab-badge.svg\" alt=\"Open In Colab\"/></a>"
      ]
    },
    {
      "cell_type": "code",
      "execution_count": null,
      "metadata": {
        "id": "x4f3O_4syO6V"
      },
      "outputs": [],
      "source": [
        "import pandas as pd\n",
        "import numpy as np\n",
        "from sympy import *\n",
        "from scipy.stats import binom\n",
        "import webbrowser\n",
        "import matplotlib.pyplot as plt\n",
        "from sympy.plotting import plot3d\n",
        "from scipy.stats import beta\n",
        "from scipy.stats import norm\n",
        "from collections import defaultdict\n",
        "from math import sqrt\n",
        "import random"
      ]
    },
    {
      "cell_type": "markdown",
      "source": [
        "Calculation of mean"
      ],
      "metadata": {
        "id": "VQLbXpfnym1J"
      }
    },
    {
      "cell_type": "code",
      "source": [
        "sample = [1,3,2,5,7,0,2,3]\n",
        "\n",
        "mean_sa = sum(sample) / len(sample)\n",
        "mean_sa"
      ],
      "metadata": {
        "colab": {
          "base_uri": "https://localhost:8080/"
        },
        "id": "YVSGwsvBylpS",
        "outputId": "92aa2554-e5b5-435d-a35b-548125c806ee"
      },
      "execution_count": null,
      "outputs": [
        {
          "output_type": "execute_result",
          "data": {
            "text/plain": [
              "2.875"
            ]
          },
          "metadata": {},
          "execution_count": 2
        }
      ]
    },
    {
      "cell_type": "markdown",
      "source": [
        "Weighted mean"
      ],
      "metadata": {
        "id": "-IJ1BbpAzh0Y"
      }
    },
    {
      "cell_type": "code",
      "source": [
        "sample_02 = [90, 80, 63, 87]\n",
        "weights_02 = [0.2, 0.2, 0.2, 0.4]\n",
        "\n",
        "weighted_mean_02 = sum(s * w for s, w in zip(sample_02, weights_02)) / sum(weights_02)\n",
        "\n",
        "weighted_mean_02"
      ],
      "metadata": {
        "colab": {
          "base_uri": "https://localhost:8080/"
        },
        "id": "hdIHwo8Szlcy",
        "outputId": "b9d0695d-f3b6-4f4b-e470-0f74133643a7"
      },
      "execution_count": null,
      "outputs": [
        {
          "output_type": "execute_result",
          "data": {
            "text/plain": [
              "81.4"
            ]
          },
          "metadata": {},
          "execution_count": 3
        }
      ]
    },
    {
      "cell_type": "markdown",
      "source": [
        "Median"
      ],
      "metadata": {
        "id": "jH4WGlCR4kQE"
      }
    },
    {
      "cell_type": "code",
      "source": [
        "def median(values):\n",
        "  ordered = sorted(values)\n",
        "  print(ordered)\n",
        "  n = len(ordered)\n",
        "  mid = int(n/2) - 1 if n % 2 == 0 else int(n/2)\n",
        "\n",
        "  if n % 2 == 0:\n",
        "    return(ordered[mid] + ordered[mid+1]) / 2.0\n",
        "  else:\n",
        "    return ordered[mid]"
      ],
      "metadata": {
        "id": "7P4Kud7G4l5v"
      },
      "execution_count": null,
      "outputs": []
    },
    {
      "cell_type": "code",
      "source": [
        "sample_03 = [0,1,5,7,9,10,14,14]\n",
        "median(sample_03)"
      ],
      "metadata": {
        "colab": {
          "base_uri": "https://localhost:8080/"
        },
        "id": "SalXxq5D5iBp",
        "outputId": "83fd6b68-7ab2-4dfa-e493-c4b14c20113d"
      },
      "execution_count": null,
      "outputs": [
        {
          "output_type": "stream",
          "name": "stdout",
          "text": [
            "[0, 1, 5, 7, 9, 10, 14, 14]\n"
          ]
        },
        {
          "output_type": "execute_result",
          "data": {
            "text/plain": [
              "8.0"
            ]
          },
          "metadata": {},
          "execution_count": 5
        }
      ]
    },
    {
      "cell_type": "code",
      "source": [
        "sample_03 = [0,1,5,7,9,10,14]\n",
        "median(sample_03)"
      ],
      "metadata": {
        "colab": {
          "base_uri": "https://localhost:8080/"
        },
        "outputId": "343b0425-c222-4250-c1e5-e1f5932b43ad",
        "id": "nFbPwCMdD0us"
      },
      "execution_count": null,
      "outputs": [
        {
          "output_type": "stream",
          "name": "stdout",
          "text": [
            "[0, 1, 5, 7, 9, 10, 14]\n"
          ]
        },
        {
          "output_type": "execute_result",
          "data": {
            "text/plain": [
              "7"
            ]
          },
          "metadata": {},
          "execution_count": 6
        }
      ]
    },
    {
      "cell_type": "code",
      "source": [
        "sorted(sample)"
      ],
      "metadata": {
        "colab": {
          "base_uri": "https://localhost:8080/"
        },
        "id": "Xw_4RPvfBagt",
        "outputId": "0b932be3-2666-443e-a707-cad7d0314265"
      },
      "execution_count": null,
      "outputs": [
        {
          "output_type": "execute_result",
          "data": {
            "text/plain": [
              "[0, 1, 2, 2, 3, 3, 5, 7]"
            ]
          },
          "metadata": {},
          "execution_count": 7
        }
      ]
    },
    {
      "cell_type": "code",
      "source": [
        "4%2"
      ],
      "metadata": {
        "colab": {
          "base_uri": "https://localhost:8080/"
        },
        "id": "KQVGPq0MCLkC",
        "outputId": "aabfb5f2-71c0-4d4e-e64f-7ea84c060292"
      },
      "execution_count": null,
      "outputs": [
        {
          "output_type": "execute_result",
          "data": {
            "text/plain": [
              "0"
            ]
          },
          "metadata": {},
          "execution_count": 8
        }
      ]
    },
    {
      "cell_type": "code",
      "source": [
        "len(sample_03)"
      ],
      "metadata": {
        "colab": {
          "base_uri": "https://localhost:8080/"
        },
        "id": "nbr7Oqu5DPLH",
        "outputId": "1c7c9021-b66c-4bf9-a487-e28c2d7969b0"
      },
      "execution_count": null,
      "outputs": [
        {
          "output_type": "execute_result",
          "data": {
            "text/plain": [
              "7"
            ]
          },
          "metadata": {},
          "execution_count": 9
        }
      ]
    },
    {
      "cell_type": "markdown",
      "source": [
        "Mode calculation"
      ],
      "metadata": {
        "id": "I4kTm9UtE3zv"
      }
    },
    {
      "cell_type": "code",
      "source": [
        "def mode(values):\n",
        "  counts = defaultdict(lambda:0)\n",
        "\n",
        "  for s in values:\n",
        "    counts[s] += 1\n",
        "\n",
        "  max_count = max(counts.values())\n",
        "  modes = [v for v in set(values) if counts[v] == max_count]\n",
        "  return modes"
      ],
      "metadata": {
        "id": "Ku3vEiIWE6vg"
      },
      "execution_count": null,
      "outputs": []
    },
    {
      "cell_type": "code",
      "source": [
        "sample_04 = [1,3,2,5,7,0,2,3]\n",
        "mode(sample_04)"
      ],
      "metadata": {
        "colab": {
          "base_uri": "https://localhost:8080/"
        },
        "id": "2sTU6dkmFlN_",
        "outputId": "0adfe585-21f5-440a-8f60-24f6e731199b"
      },
      "execution_count": null,
      "outputs": [
        {
          "output_type": "execute_result",
          "data": {
            "text/plain": [
              "[2, 3]"
            ]
          },
          "metadata": {},
          "execution_count": 11
        }
      ]
    },
    {
      "cell_type": "markdown",
      "source": [
        "Example of lambda function"
      ],
      "metadata": {
        "id": "TQRroEzZ4ZTm"
      }
    },
    {
      "cell_type": "code",
      "source": [
        "add_one = lambda x : x + 1"
      ],
      "metadata": {
        "id": "8OCuuMSr4csD"
      },
      "execution_count": null,
      "outputs": []
    },
    {
      "cell_type": "code",
      "source": [
        "add_one(2)"
      ],
      "metadata": {
        "colab": {
          "base_uri": "https://localhost:8080/"
        },
        "id": "-TpVKcTa42BC",
        "outputId": "46109f99-2bb3-48ab-da4a-b119253fdaf9"
      },
      "execution_count": null,
      "outputs": [
        {
          "output_type": "execute_result",
          "data": {
            "text/plain": [
              "3"
            ]
          },
          "metadata": {},
          "execution_count": 13
        }
      ]
    },
    {
      "cell_type": "markdown",
      "source": [
        "The latter is similar to use this function"
      ],
      "metadata": {
        "id": "YZ84m1MT457s"
      }
    },
    {
      "cell_type": "code",
      "source": [
        "def add_plus_one (x):\n",
        "  return x+1"
      ],
      "metadata": {
        "id": "KtCbVWpB4_Xo"
      },
      "execution_count": null,
      "outputs": []
    },
    {
      "cell_type": "code",
      "source": [
        "add_plus_one(2)"
      ],
      "metadata": {
        "colab": {
          "base_uri": "https://localhost:8080/"
        },
        "id": "GzNhKmsC5IKx",
        "outputId": "81264c4b-dd52-461a-957b-d408ffb1d41a"
      },
      "execution_count": null,
      "outputs": [
        {
          "output_type": "execute_result",
          "data": {
            "text/plain": [
              "3"
            ]
          },
          "metadata": {},
          "execution_count": 15
        }
      ]
    },
    {
      "cell_type": "markdown",
      "source": [
        "We can use the lambda function with more than one variable"
      ],
      "metadata": {
        "id": "3ls36vcj56NV"
      }
    },
    {
      "cell_type": "code",
      "source": [
        "raise_x_to_y = lambda x,y : x**y"
      ],
      "metadata": {
        "id": "xFjqy7k16BjQ"
      },
      "execution_count": null,
      "outputs": []
    },
    {
      "cell_type": "code",
      "source": [
        "raise_x_to_y(2,2)"
      ],
      "metadata": {
        "colab": {
          "base_uri": "https://localhost:8080/"
        },
        "id": "yQfLZov16Npj",
        "outputId": "1df47fb9-98d6-46b2-b18d-be6839c47547"
      },
      "execution_count": null,
      "outputs": [
        {
          "output_type": "execute_result",
          "data": {
            "text/plain": [
              "4"
            ]
          },
          "metadata": {},
          "execution_count": 17
        }
      ]
    },
    {
      "cell_type": "code",
      "source": [
        "raise_x_to_y(2,3)"
      ],
      "metadata": {
        "colab": {
          "base_uri": "https://localhost:8080/"
        },
        "id": "m7ocWpGE55A3",
        "outputId": "d9df2729-e906-4f55-86d1-83bc194b5ad2"
      },
      "execution_count": null,
      "outputs": [
        {
          "output_type": "execute_result",
          "data": {
            "text/plain": [
              "8"
            ]
          },
          "metadata": {},
          "execution_count": 18
        }
      ]
    },
    {
      "cell_type": "markdown",
      "source": [
        "Calculation of variance"
      ],
      "metadata": {
        "id": "HDrFE5gc9rYd"
      }
    },
    {
      "cell_type": "code",
      "source": [
        "def variance(values, is_sample: bool = False):\n",
        "  mean = sum(values) / len(values)\n",
        "  _variance = sum((v-mean)**2 for v in values) / (len(values) - (1 if is_sample else 0))\n",
        "  return _variance"
      ],
      "metadata": {
        "id": "F8gx8YDD9v94"
      },
      "execution_count": null,
      "outputs": []
    },
    {
      "cell_type": "code",
      "source": [
        "data_a = [0,1,5,7,9,10,14]\n",
        "round(variance(data_a, is_sample=True),2)"
      ],
      "metadata": {
        "colab": {
          "base_uri": "https://localhost:8080/"
        },
        "id": "cXEJ6-Ql6Wz1",
        "outputId": "6378047e-92a0-4197-d710-ec28e1d7e682"
      },
      "execution_count": null,
      "outputs": [
        {
          "output_type": "execute_result",
          "data": {
            "text/plain": [
              "24.95"
            ]
          },
          "metadata": {},
          "execution_count": 20
        }
      ]
    },
    {
      "cell_type": "markdown",
      "source": [
        "invoke the function in the Python interpreter using _ to calculate the variance with a lambda function.\n",
        "Consider the _ in the interpreter as a side effect that you took advantage of. In a Python module, you would assign a name to the lambda, or you would pass the lambda to a function."
      ],
      "metadata": {
        "id": "SAPU20kQIGWJ"
      }
    },
    {
      "cell_type": "markdown",
      "source": [
        "Calculation of standard deviation"
      ],
      "metadata": {
        "id": "N9EQW6AsLrsr"
      }
    },
    {
      "cell_type": "code",
      "source": [
        "def std_dev(values, is_sample : bool = False):\n",
        "  return sqrt(variance(values, is_sample))"
      ],
      "metadata": {
        "id": "MA421C1zLv3f"
      },
      "execution_count": null,
      "outputs": []
    },
    {
      "cell_type": "code",
      "source": [
        "round(std_dev(data_a, is_sample=True),2)"
      ],
      "metadata": {
        "colab": {
          "base_uri": "https://localhost:8080/"
        },
        "id": "15cKEBUIIZtb",
        "outputId": "5edde098-fb3c-4b05-97d9-c8647288f694"
      },
      "execution_count": null,
      "outputs": [
        {
          "output_type": "execute_result",
          "data": {
            "text/plain": [
              "5.0"
            ]
          },
          "metadata": {},
          "execution_count": 22
        }
      ]
    },
    {
      "cell_type": "markdown",
      "source": [
        "Normal distribution, returns likelihood"
      ],
      "metadata": {
        "id": "iIRqedaEW6Xi"
      }
    },
    {
      "cell_type": "code",
      "source": [
        "from numpy.core.fromnumeric import std\n",
        "def normal_pdf(x: float, mean: float, std_dev: float)-> float:\n",
        "  return (1.0 / (2-0 * math.pi * std_dev ** 2) ** 0.5) * math.exp(-1.0 - ((x -mean) **2 / ( 2.0 * std_dev ** 2)))"
      ],
      "metadata": {
        "id": "6Fj4xTgeXA4J"
      },
      "execution_count": null,
      "outputs": []
    },
    {
      "cell_type": "markdown",
      "source": [
        "Using scypy. Probability of 64.43 given mean_a and std_dev_a. Since the value is the mean the cummulative distribution function (CDF), gives 50%"
      ],
      "metadata": {
        "id": "zZqmMgHYFj2g"
      }
    },
    {
      "cell_type": "code",
      "source": [
        "mean_a = 64.43\n",
        "std_dev_a = 2.99\n",
        "x = norm.cdf(64.43, mean_a, std_dev_a)\n",
        "x"
      ],
      "metadata": {
        "colab": {
          "base_uri": "https://localhost:8080/"
        },
        "id": "FDXyvWqZFi0A",
        "outputId": "2ba73a9f-438c-4be3-c590-82cb56953b49"
      },
      "execution_count": null,
      "outputs": [
        {
          "output_type": "execute_result",
          "data": {
            "text/plain": [
              "0.5"
            ]
          },
          "metadata": {},
          "execution_count": 24
        }
      ]
    },
    {
      "cell_type": "markdown",
      "source": [
        "Probability of values between 66 and 62"
      ],
      "metadata": {
        "id": "eU5-oQosGZqR"
      }
    },
    {
      "cell_type": "code",
      "source": [
        "x = norm.cdf(66, mean_a, std_dev_a) - norm.cdf(62, mean_a, std_dev_a)\n",
        "x"
      ],
      "metadata": {
        "colab": {
          "base_uri": "https://localhost:8080/"
        },
        "id": "PpetieoRGo9P",
        "outputId": "396a1cbf-cab4-4747-add2-4836c9eefb51"
      },
      "execution_count": null,
      "outputs": [
        {
          "output_type": "execute_result",
          "data": {
            "text/plain": [
              "0.4920450147062894"
            ]
          },
          "metadata": {},
          "execution_count": 25
        }
      ]
    },
    {
      "cell_type": "markdown",
      "source": [
        "Using the inverse CDF (called ppf()) in Python"
      ],
      "metadata": {
        "id": "V2BLWRDbOZpS"
      }
    },
    {
      "cell_type": "code",
      "source": [
        "x = norm.ppf(0.95, loc = 64.43, scale = 2.99)\n",
        "round(x,2)"
      ],
      "metadata": {
        "colab": {
          "base_uri": "https://localhost:8080/"
        },
        "id": "U4e14kV6Oh-m",
        "outputId": "ed64eeab-38dd-483c-e4c8-62c15e27ccaa"
      },
      "execution_count": null,
      "outputs": [
        {
          "output_type": "execute_result",
          "data": {
            "text/plain": [
              "69.35"
            ]
          },
          "metadata": {},
          "execution_count": 27
        }
      ]
    },
    {
      "cell_type": "markdown",
      "source": [
        "This means that 95% of the sample are 69.348 or lower"
      ],
      "metadata": {
        "id": "-wFcTLE8O4jV"
      }
    },
    {
      "cell_type": "markdown",
      "source": [
        "Generating random numbers from a normal distribution"
      ],
      "metadata": {
        "id": "WirGeMW4QlqC"
      }
    },
    {
      "cell_type": "code",
      "source": [
        "for i in range(0,1000):\n",
        "  random_p = random.uniform(0.0, 1.0)\n",
        "  random_weight = norm.ppf(random_p, loc = 64.43, scale = 2.99)\n",
        "  #print(random_weight)"
      ],
      "metadata": {
        "id": "u1Ovs3_6QreO"
      },
      "execution_count": null,
      "outputs": []
    },
    {
      "cell_type": "code",
      "source": [
        "plt.plot([1,2,3,4], [10,20,39,49], 'ro')\n",
        "plt.axis([0,5,0,55])\n",
        "plt.show();"
      ],
      "metadata": {
        "colab": {
          "base_uri": "https://localhost:8080/",
          "height": 265
        },
        "id": "AHt9tJZQRXIw",
        "outputId": "376aa883-83cd-44be-cf49-9ec9d72a20eb"
      },
      "execution_count": null,
      "outputs": [
        {
          "output_type": "display_data",
          "data": {
            "text/plain": [
              "<Figure size 432x288 with 1 Axes>"
            ],
            "image/png": "[encoded data removed]"
          },
          "metadata": {
            "needs_background": "light"
          }
        }
      ]
    },
    {
      "cell_type": "markdown",
      "source": [
        "Z scores"
      ],
      "metadata": {
        "id": "SYoQJ4BzXycl"
      }
    },
    {
      "cell_type": "code",
      "source": [
        "def z_score(x, mean, std):\n",
        "  return (x - mean)/std"
      ],
      "metadata": {
        "id": "kkYskHv6X0a4"
      },
      "execution_count": null,
      "outputs": []
    },
    {
      "cell_type": "code",
      "source": [
        "def z_to_x(z, mean, std):\n",
        "  return (z * std) + mean"
      ],
      "metadata": {
        "id": "OOO_93bJYBts"
      },
      "execution_count": null,
      "outputs": []
    },
    {
      "cell_type": "code",
      "source": [
        "mean_a = 140000\n",
        "std_a = 3000\n",
        "x = 150000"
      ],
      "metadata": {
        "id": "G-hyuPOoYP_x"
      },
      "execution_count": null,
      "outputs": []
    },
    {
      "cell_type": "code",
      "source": [
        "z = z_score(x, mean_a, std_a)\n",
        "round(z,2)"
      ],
      "metadata": {
        "colab": {
          "base_uri": "https://localhost:8080/"
        },
        "id": "GRZsIiy0Yhkh",
        "outputId": "93a8a10d-9313-4aba-883e-6e311794dfe9"
      },
      "execution_count": null,
      "outputs": [
        {
          "output_type": "execute_result",
          "data": {
            "text/plain": [
              "3.33"
            ]
          },
          "metadata": {},
          "execution_count": 56
        }
      ]
    },
    {
      "cell_type": "code",
      "source": [
        "back_to_x = z_to_x(z, mean_a, std_a)\n",
        "round(back_to_x)"
      ],
      "metadata": {
        "colab": {
          "base_uri": "https://localhost:8080/"
        },
        "id": "HZbgAHnUYu56",
        "outputId": "d5df8c7b-bacb-4ee8-8b50-309e49300b52"
      },
      "execution_count": null,
      "outputs": [
        {
          "output_type": "execute_result",
          "data": {
            "text/plain": [
              "150000"
            ]
          },
          "metadata": {},
          "execution_count": 57
        }
      ]
    }
  ]
}